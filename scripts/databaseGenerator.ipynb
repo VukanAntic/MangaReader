{
 "cells": [
  {
   "cell_type": "code",
   "execution_count": 8,
   "id": "3725a3d8",
   "metadata": {},
   "outputs": [],
   "source": [
    "import os\n",
    "import requests\n",
    "import time"
   ]
  },
  {
   "cell_type": "code",
   "execution_count": 9,
   "id": "529ae2cb",
   "metadata": {},
   "outputs": [],
   "source": [
    "base_url = \"https://api.mangadex.org\"\n",
    "languages = [\"en\"]"
   ]
  },
  {
   "cell_type": "code",
   "execution_count": 20,
   "id": "8e23e539",
   "metadata": {},
   "outputs": [],
   "source": [
    "def download_chapter(chapter_id, chapter_number):\n",
    "    \n",
    "    r = requests.get(f\"{base_url}/chapter/{chapter_id}\")\n",
    "    chapter_title = r.json()[\"data\"][\"attributes\"][\"title\"]\n",
    "    #print(chapter_id) \n",
    "    #print(chapter_number)\n",
    "    #print(chapter_title)\n",
    "    \n",
    "    print(f\"{base_url}/at-home/server/{chapter_id}\")\n",
    "    r = requests.get(f\"{base_url}/at-home/server/{chapter_id}\")\n",
    "    r_json = r.json()\n",
    "    \n",
    "    \n",
    "        \n",
    "    if \"errors\" in r_json:\n",
    "        print(r_json)\n",
    "        # rate exceeded\n",
    "        if r_json[\"errors\"][0][\"status\"] == 429:\n",
    "            time.sleep(30)\n",
    "            r = requests.get(f\"{base_url}/at-home/server/{chapter_id}\")\n",
    "            r_json = r.json()\n",
    "        else:\n",
    "            print(\"For some reason, cannot proccess given chapter.\")\n",
    "            return\n",
    "            \n",
    "            \n",
    "\n",
    "    host = r_json[\"baseUrl\"]\n",
    "    chapter_hash = r_json[\"chapter\"][\"hash\"]\n",
    "    data = r_json[\"chapter\"][\"data\"]\n",
    "    data_saver = r_json[\"chapter\"][\"dataSaver\"]\n",
    "        \n",
    "    for (page_number, page) in enumerate(data):\n",
    "        #page_number = int(page[0:page.find(\"-\")])\n",
    "        page_url = f\"{host}/data/{chapter_hash}/{page}\"\n",
    "        print(page_number)\n",
    "        print(page_url)\n",
    "        #r = requests.get(f\"{host}/data/{chapter_hash}/{page}\")\n",
    "        \n",
    "        #with open(f\"{folder_path}/{page}\", mode=\"wb\") as f:\n",
    "        #    f.write(r.content)\n",
    "\n",
    "    print(f\"Downloaded {len(data)} pages.\")"
   ]
  },
  {
   "cell_type": "code",
   "execution_count": 21,
   "id": "d2f3e010",
   "metadata": {},
   "outputs": [],
   "source": [
    "def get_given_value_for_key(manga, key):\n",
    "    if key in manga:\n",
    "        return manga[key]\n",
    "    else:\n",
    "        return None"
   ]
  },
  {
   "cell_type": "code",
   "execution_count": 22,
   "id": "d184a73f",
   "metadata": {},
   "outputs": [],
   "source": [
    "def find_given_relationship(manga, relationship_type):\n",
    "    return next(item for item in manga[\"relationships\"] if item[\"type\"] == relationship_type)"
   ]
  },
  {
   "cell_type": "code",
   "execution_count": 23,
   "id": "c57ea983",
   "metadata": {},
   "outputs": [],
   "source": [
    "def download_manga(title):\n",
    "    # Searching for the id of the given manga\n",
    "    res = requests.get(\n",
    "        f\"{base_url}/manga\",\n",
    "        params={\"title\": title, \"includes[]\": [\"author\", \"manga\", \"cover_art\"]}\n",
    "    )\n",
    "        \n",
    "    if not \"data\" in res.json():\n",
    "        print(\"For some reason, data is not in the first get request.\")\n",
    "        return\n",
    "    \n",
    "        \n",
    "    manga_data = res.json()[\"data\"][0]\n",
    "    #print(manga_data)\n",
    "\n",
    "    manga_id = manga_data[\"id\"]\n",
    "    title = manga_data[\"attributes\"][\"title\"][\"en\"]\n",
    "    description = manga_data[\"attributes\"][\"description\"][\"en\"]\n",
    "    status = manga_data[\"attributes\"][\"status\"]\n",
    "    public_demographic = manga_data[\"attributes\"][\"publicationDemographic\"]\n",
    "    # if (public_demographic == \"shounen\" or public_demographic == \"shoujo\"):\n",
    "    #     public_demographic = True\n",
    "    # else:\n",
    "    #     public_demographic = False\n",
    "    \n",
    "    tags = manga_data[\"attributes\"][\"tags\"]\n",
    "    for tag in tags:\n",
    "        if tag[\"attributes\"][\"group\"] == \"genre\":\n",
    "            genre_id = tag[\"id\"]\n",
    "            genre_name = tag[\"attributes\"][\"name\"][\"en\"]\n",
    "    \n",
    "    \n",
    "    author_data = find_given_relationship(manga_data, \"author\")\n",
    "    author_id = author_data[\"id\"]\n",
    "    author_name = author_data[\"attributes\"][\"name\"]\n",
    "    if \"biography\" in author_data[\"attributes\"] and \"en\" in author_data[\"attributes\"][\"biography\"]:\n",
    "        author_biography = author_data[\"attributes\"][\"biography\"][\"en\"]\n",
    "    else:\n",
    "        author_biography = None\n",
    "    \n",
    "    cover_art_data = find_given_relationship(manga_data, \"cover_art\")\n",
    "    filename = cover_art_data[\"attributes\"][\"fileName\"]\n",
    "    cover_art_url = f\"https://uploads.mangadex.org/covers/{manga_id}/{filename}\"\n",
    "        \n",
    "    res = requests.get(\n",
    "        f\"{base_url}/manga/{manga_id}/aggregate\",\n",
    "        params={\"translatedLanguage[]\": languages},\n",
    "    )\n",
    "            \n",
    "    volumes = res.json()[\"volumes\"]\n",
    "    # dict (chapter_number -> chapter_id)\n",
    "    chapters = []\n",
    "    \n",
    "    \n",
    "    for (volume_number, volume_data) in volumes.items():\n",
    "        print(volume_number)\n",
    "        print(\"=====================================================\")\n",
    "        #print(volume_data)\n",
    "        \n",
    "        chapters = volume_data[\"chapters\"]\n",
    "        for (chapter_number, chapter_data) in chapters.items():\n",
    "            chapter_id = chapter_data[\"id\"]\n",
    "            download_chapter(chapter_id, chapter_number)\n",
    "            "
   ]
  },
  {
   "cell_type": "code",
   "execution_count": null,
   "id": "cf805e5c",
   "metadata": {},
   "outputs": [],
   "source": [
    "download_manga(\"Vinland saga\")"
   ]
  }
 ],
 "metadata": {
  "kernelspec": {
   "display_name": "Python 3 (ipykernel)",
   "language": "python",
   "name": "python3"
  },
  "language_info": {
   "codemirror_mode": {
    "name": "ipython",
    "version": 3
   },
   "file_extension": ".py",
   "mimetype": "text/x-python",
   "name": "python",
   "nbconvert_exporter": "python",
   "pygments_lexer": "ipython3",
   "version": "3.8.10"
  }
 },
 "nbformat": 4,
 "nbformat_minor": 5
}
